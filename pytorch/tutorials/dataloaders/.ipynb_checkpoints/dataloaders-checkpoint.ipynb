{
 "cells": [
  {
   "cell_type": "markdown",
   "metadata": {},
   "source": [
    "### PyTorch Dataloaders\n",
    "Look here https://stanford.edu/~shervine/blog/pytorch-how-to-generate-data-parallel."
   ]
  },
  {
   "cell_type": "code",
   "execution_count": 169,
   "metadata": {},
   "outputs": [],
   "source": [
    "from __future__ import print_function, division\n",
    "import os\n",
    "import torch\n",
    "import pandas as pd\n",
    "from skimage import io, transform\n",
    "import numpy as np\n",
    "import matplotlib.pyplot as plt\n",
    "from torch.utils.data import Dataset, DataLoader\n",
    "from torchvision import transforms, utils\n",
    "import torch\n",
    "import torch.nn as nn\n",
    "\n",
    "# Ignore warnings\n",
    "import warnings\n",
    "warnings.filterwarnings(\"ignore\")\n",
    "\n",
    "plt.ion()   # interactive mode"
   ]
  },
  {
   "cell_type": "code",
   "execution_count": 203,
   "metadata": {},
   "outputs": [],
   "source": [
    "n = 3000\n",
    "\n",
    "df = pd.DataFrame()\n",
    "df['time'] = np.linspace(0,n,n)\n",
    "df['value'] = 3 * np.sin(df.time/100) #+ np.random.normal(0,1,n)\n",
    "df['split'] = np.random.randint(0,n,n)\n",
    "\n",
    "time_split = n * 0.7\n",
    "\n",
    "train_df = df[df.split < time_split]\n",
    "val_df = df[df.split >= time_split]\n",
    "\n",
    "val_df.time = (val_df.time - np.min(train_df.time))/(np.max(train_df.time) - np.min(train_df.time))\n",
    "train_df.time = (train_df.time - np.min(train_df.time))/(np.max(train_df.time) - np.min(train_df.time))\n",
    "\n",
    "val_df.value = (val_df.value - np.min(train_df.value))/(np.max(train_df.value) - np.min(train_df.value))\n",
    "train_df.value = (train_df.value - np.min(train_df.value))/(np.max(train_df.value) - np.min(train_df.value))\n",
    "\n",
    "x_train = train_df.time.values.astype(np.float32).reshape((-1,1))\n",
    "y_train = train_df.value.values.astype(np.float32).reshape((-1,1))"
   ]
  },
  {
   "cell_type": "code",
   "execution_count": 204,
   "metadata": {},
   "outputs": [
    {
     "data": {
      "text/plain": [
       "array([[0.0000000e+00],\n",
       "       [3.3344448e-04],\n",
       "       [1.0003335e-03],\n",
       "       ...,\n",
       "       [9.9833280e-01],\n",
       "       [9.9899966e-01],\n",
       "       [1.0000000e+00]], dtype=float32)"
      ]
     },
     "execution_count": 204,
     "metadata": {},
     "output_type": "execute_result"
    }
   ],
   "source": [
    "x_train"
   ]
  },
  {
   "cell_type": "code",
   "execution_count": 205,
   "metadata": {},
   "outputs": [
    {
     "data": {
      "text/plain": [
       "array([[0.49999955],\n",
       "       [0.5050011 ],\n",
       "       [0.5150023 ],\n",
       "       ...,\n",
       "       [0.00274512],\n",
       "       [0.00389152],\n",
       "       [0.00598328]], dtype=float32)"
      ]
     },
     "execution_count": 205,
     "metadata": {},
     "output_type": "execute_result"
    }
   ],
   "source": [
    "y_train"
   ]
  },
  {
   "cell_type": "code",
   "execution_count": 206,
   "metadata": {},
   "outputs": [
    {
     "data": {
      "text/plain": [
       "<matplotlib.collections.PathCollection at 0x28fd6ac5088>"
      ]
     },
     "execution_count": 206,
     "metadata": {},
     "output_type": "execute_result"
    },
    {
     "data": {
      "image/png": "[encoded data removed]",
      "text/plain": [
       "<Figure size 432x288 with 1 Axes>"
      ]
     },
     "metadata": {
      "needs_background": "light"
     },
     "output_type": "display_data"
    }
   ],
   "source": [
    "plt.scatter(train_df.time, train_df.value)"
   ]
  },
  {
   "cell_type": "code",
   "execution_count": 207,
   "metadata": {},
   "outputs": [],
   "source": [
    "class GenericDataset(Dataset):\n",
    "\n",
    "    def __init__(self, df):\n",
    "        self.df = df\n",
    "\n",
    "    def __len__(self):\n",
    "        \n",
    "        length = len(self.df)\n",
    "        return length\n",
    "\n",
    "    def __getitem__(self, idx):\n",
    "        if torch.is_tensor(idx):\n",
    "            idx = idx.tolist()\n",
    "\n",
    "        x = np.array(self.df.iloc[idx].time).reshape(-1,1)\n",
    "        y = np.array(self.df.iloc[idx].value).reshape(-1,1)\n",
    "\n",
    "        return x, y"
   ]
  },
  {
   "cell_type": "code",
   "execution_count": 208,
   "metadata": {},
   "outputs": [
    {
     "data": {
      "text/plain": [
       "'\\n\\nface_dataset = GenericDataset(train_df)\\n\\nfor i in range(len(face_dataset)):\\n    \\n    print(face_dataset[i])\\n    '"
      ]
     },
     "execution_count": 208,
     "metadata": {},
     "output_type": "execute_result"
    }
   ],
   "source": [
    "\"\"\"\n",
    "\n",
    "face_dataset = GenericDataset(train_df)\n",
    "\n",
    "for i in range(len(face_dataset)):\n",
    "    \n",
    "    print(face_dataset[i])\n",
    "    \"\"\""
   ]
  },
  {
   "cell_type": "code",
   "execution_count": 209,
   "metadata": {},
   "outputs": [],
   "source": [
    "# Hyper-parameters\n",
    "INPUT_SIZE = 1\n",
    "OUTPUT_SIZE = 1\n",
    "NUM_EPOCHS = 10\n",
    "LEARNING_RATE = 0.1\n",
    "BATCH_SIZE = 32"
   ]
  },
  {
   "cell_type": "code",
   "execution_count": 217,
   "metadata": {},
   "outputs": [],
   "source": [
    "class MLPModel(nn.Module):\n",
    "    def __init__(self, input_size, output_size, dropout=0.0, n_hid=512):\n",
    "        super().__init__()\n",
    "        self.model = nn.Sequential(\n",
    "            nn.Linear(input_size, n_hid),\n",
    "            nn.ReLU(),    \n",
    "            nn.Linear(n_hid, n_hid//2),\n",
    "            nn.ReLU(),\n",
    "            nn.Linear(n_hid//2, output_size),\n",
    "        )\n",
    "        #for m in self.model:\n",
    "            #if isinstance(m, nn.Linear):\n",
    "                #nn.init.kaiming_normal_(m.weight)\n",
    "                #nn.init.constant_(m.bias, 0)\n",
    "\n",
    "    def forward(self, input_tensor):\n",
    "        return self.model(input_tensor)"
   ]
  },
  {
   "cell_type": "code",
   "execution_count": 218,
   "metadata": {},
   "outputs": [],
   "source": [
    "# Linear regression model\n",
    "model =  MLPModel(INPUT_SIZE, OUTPUT_SIZE)\n",
    "model = model.double()\n",
    "\n",
    "# Loss and optimizer\n",
    "criterion = nn.MSELoss()\n",
    "optimizer = torch.optim.SGD(model.parameters(), lr=LEARNING_RATE)  "
   ]
  },
  {
   "cell_type": "code",
   "execution_count": null,
   "metadata": {},
   "outputs": [],
   "source": []
  },
  {
   "cell_type": "code",
   "execution_count": 192,
   "metadata": {},
   "outputs": [
    {
     "name": "stdout",
     "output_type": "stream",
     "text": [
      "Epoch [1/10], Loss: 0.0203\n",
      "Epoch [2/10], Loss: 0.0070\n",
      "Epoch [3/10], Loss: 0.0041\n",
      "Epoch [4/10], Loss: 0.0008\n",
      "Epoch [5/10], Loss: 0.0004\n",
      "Epoch [6/10], Loss: 0.0001\n",
      "Epoch [7/10], Loss: 0.0002\n",
      "Epoch [8/10], Loss: 0.0001\n",
      "Epoch [9/10], Loss: 0.0007\n",
      "Epoch [10/10], Loss: 0.0001\n"
     ]
    }
   ],
   "source": [
    "#optimizer = torch.optim.SGD(model.parameters(), lr=LEARNING_RATE)\n",
    "optimizer = torch.optim.Adam(model.parameters(), lr=LEARNING_RATE)\n",
    "\n",
    "# Train the model\n",
    "for epoch in range(NUM_EPOCHS):\n",
    "\n",
    "    permutation = torch.randperm(torch.from_numpy(x_train).size()[0])\n",
    "    \n",
    "    for i in range(0,torch.from_numpy(x_train).size()[0], BATCH_SIZE):\n",
    "    \n",
    "        indices = permutation[i:i+BATCH_SIZE]\n",
    "        inputs, targets = x_train[indices], y_train[indices]\n",
    "    \n",
    "        # Convert numpy arrays to torch tensors\n",
    "        inputs = torch.from_numpy(inputs)\n",
    "        targets = torch.from_numpy(targets)\n",
    "\n",
    "        # Forward pass\n",
    "        outputs = model.forward(inputs)\n",
    "        loss = criterion(outputs, targets)\n",
    "    \n",
    "        # Backward and optimize\n",
    "        optimizer.zero_grad()\n",
    "        loss.backward()\n",
    "        optimizer.step()\n",
    "    \n",
    "    if (epoch+1) % 1 == 0:\n",
    "        print ('Epoch [{}/{}], Loss: {:.4f}'.format(epoch+1, NUM_EPOCHS, loss.item()))"
   ]
  },
  {
   "cell_type": "code",
   "execution_count": 193,
   "metadata": {},
   "outputs": [
    {
     "data": {
      "text/plain": [
       "[<matplotlib.lines.Line2D at 0x28fd69b9548>]"
      ]
     },
     "execution_count": 193,
     "metadata": {},
     "output_type": "execute_result"
    },
    {
     "data": {
      "image/png": "[encoded data removed]",
      "text/plain": [
       "<Figure size 432x288 with 1 Axes>"
      ]
     },
     "metadata": {
      "needs_background": "light"
     },
     "output_type": "display_data"
    }
   ],
   "source": [
    "outputs = model.forward(torch.from_numpy(x_train))\n",
    "\n",
    "plt.plot(x_train, outputs.detach().numpy())\n",
    "plt.plot(x_train, y_train)"
   ]
  },
  {
   "cell_type": "code",
   "execution_count": null,
   "metadata": {},
   "outputs": [],
   "source": []
  },
  {
   "cell_type": "code",
   "execution_count": null,
   "metadata": {},
   "outputs": [],
   "source": []
  },
  {
   "cell_type": "code",
   "execution_count": 219,
   "metadata": {},
   "outputs": [],
   "source": [
    "params = {'batch_size': BATCH_SIZE,\n",
    "          'shuffle': True,\n",
    "          'num_workers': 0}\n",
    "\n",
    "training_set = GenericDataset(train_df)\n",
    "training_generator = DataLoader(training_set, **params)\n",
    "\n",
    "val_set = GenericDataset(val_df)\n",
    "val_generator = DataLoader(val_set, **params)"
   ]
  },
  {
   "cell_type": "code",
   "execution_count": 220,
   "metadata": {},
   "outputs": [
    {
     "data": {
      "text/plain": [
       "'\\n# Loop over epochs\\nfor epoch in range(NUM_EPOCHS):\\n    # Training\\n    for local_batch, local_labels in training_generator:\\n        # Transfer to GPU\\n        local_batch, local_labels = local_batch.to(device), local_labels.to(device)\\n\\n        # Model computations\\n        [...]\\n\\n    # Validation\\n    with torch.set_grad_enabled(False):\\n        for local_batch, local_labels in validation_generator:\\n            # Transfer to GPU\\n            local_batch, local_labels = local_batch.to(device), local_labels.to(device)\\n\\n            # Model computations\\n            [...]\\n'"
      ]
     },
     "execution_count": 220,
     "metadata": {},
     "output_type": "execute_result"
    }
   ],
   "source": [
    "\"\"\"\n",
    "# Loop over epochs\n",
    "for epoch in range(NUM_EPOCHS):\n",
    "    # Training\n",
    "    for local_batch, local_labels in training_generator:\n",
    "        # Transfer to GPU\n",
    "        local_batch, local_labels = local_batch.to(device), local_labels.to(device)\n",
    "\n",
    "        # Model computations\n",
    "        [...]\n",
    "\n",
    "    # Validation\n",
    "    with torch.set_grad_enabled(False):\n",
    "        for local_batch, local_labels in validation_generator:\n",
    "            # Transfer to GPU\n",
    "            local_batch, local_labels = local_batch.to(device), local_labels.to(device)\n",
    "\n",
    "            # Model computations\n",
    "            [...]\n",
    "\"\"\""
   ]
  },
  {
   "cell_type": "code",
   "execution_count": 221,
   "metadata": {},
   "outputs": [
    {
     "name": "stdout",
     "output_type": "stream",
     "text": [
      "Epoch [1/10], Train loss: 275.6587, Val loss: 0.1283\n",
      "Epoch [2/10], Train loss: 0.1195, Val loss: 0.1158\n",
      "Epoch [3/10], Train loss: 0.1106, Val loss: 0.1085\n",
      "Epoch [4/10], Train loss: 0.1057, Val loss: 0.1063\n",
      "Epoch [5/10], Train loss: 0.1014, Val loss: 0.1109\n",
      "Epoch [6/10], Train loss: 0.1038, Val loss: 0.0991\n",
      "Epoch [7/10], Train loss: 0.1017, Val loss: 0.1016\n",
      "Epoch [8/10], Train loss: 0.0974, Val loss: 0.0990\n",
      "Epoch [9/10], Train loss: 0.0984, Val loss: 0.0984\n",
      "Epoch [10/10], Train loss: 0.0955, Val loss: 0.0975\n"
     ]
    }
   ],
   "source": [
    "# Train the model\n",
    "#optimizer = torch.optim.SGD(model.parameters(), lr=LEARNING_RATE)\n",
    "optimizer = torch.optim.Adam(model.parameters(), lr=LEARNING_RATE)\n",
    "\n",
    "for epoch in range(NUM_EPOCHS):\n",
    "    \n",
    "    model.train()\n",
    "    \n",
    "    train_loss_epoch = []\n",
    "    val_loss_epoch = []\n",
    "    \n",
    "    for inputs, targets in training_generator:\n",
    "    \n",
    "        # Clear old gradients.\n",
    "        optimizer.zero_grad()\n",
    "        \n",
    "        # Make sure inputs/outputs are correct data type.\n",
    "        inputs = inputs.double()\n",
    "        targets = targets.double()\n",
    "\n",
    "        # Forward pass\n",
    "        outputs = model.forward(inputs)\n",
    "        train_loss = criterion(outputs, targets)\n",
    "    \n",
    "        # Backward and optimize\n",
    "        train_loss.backward()\n",
    "        optimizer.step()\n",
    "        train_loss_epoch.append(train_loss.item())\n",
    "        \n",
    "    model.eval()\n",
    "        \n",
    "    for inputs, targets in val_generator:\n",
    "            \n",
    "        inputs = inputs.double()\n",
    "        targets = targets.double()\n",
    "\n",
    "        # Forward pass\n",
    "        outputs = model.forward(inputs)\n",
    "        val_loss = criterion(outputs, targets)\n",
    "        val_loss_epoch.append(val_loss.item())\n",
    "    \n",
    "    if (epoch+1) % 1 == 0:\n",
    "        print('Epoch [{}/{}], Train loss: {:.4f}, Val loss: {:.4f}'.format(epoch+1, \n",
    "                                                                           NUM_EPOCHS, \n",
    "                                                                           np.mean(train_loss_epoch), \n",
    "                                                                           np.mean(val_loss_epoch)))"
   ]
  },
  {
   "cell_type": "code",
   "execution_count": 222,
   "metadata": {},
   "outputs": [],
   "source": [
    "outputs = model.forward(torch.from_numpy(train_df['time'].values.reshape(-1,1)))"
   ]
  },
  {
   "cell_type": "code",
   "execution_count": 223,
   "metadata": {},
   "outputs": [
    {
     "data": {
      "text/plain": [
       "[<matplotlib.lines.Line2D at 0x28fd6ad7a88>]"
      ]
     },
     "execution_count": 223,
     "metadata": {},
     "output_type": "execute_result"
    },
    {
     "data": {
      "image/png": "[encoded data removed]",
      "text/plain": [
       "<Figure size 432x288 with 1 Axes>"
      ]
     },
     "metadata": {
      "needs_background": "light"
     },
     "output_type": "display_data"
    }
   ],
   "source": [
    "outputs = model.forward(torch.from_numpy(train_df['time'].values.reshape(-1,1)))\n",
    "\n",
    "plt.plot(train_df.time, outputs.detach().numpy())\n",
    "plt.plot(train_df.time, train_df.value)"
   ]
  },
  {
   "cell_type": "code",
   "execution_count": null,
   "metadata": {},
   "outputs": [],
   "source": []
  },
  {
   "cell_type": "code",
   "execution_count": null,
   "metadata": {},
   "outputs": [],
   "source": []
  }
 ],
 "metadata": {
  "kernelspec": {
   "display_name": "Python 3",
   "language": "python",
   "name": "python3"
  },
  "language_info": {
   "codemirror_mode": {
    "name": "ipython",
    "version": 3
   },
   "file_extension": ".py",
   "mimetype": "text/x-python",
   "name": "python",
   "nbconvert_exporter": "python",
   "pygments_lexer": "ipython3",
   "version": "3.7.4"
  }
 },
 "nbformat": 4,
 "nbformat_minor": 2
}
