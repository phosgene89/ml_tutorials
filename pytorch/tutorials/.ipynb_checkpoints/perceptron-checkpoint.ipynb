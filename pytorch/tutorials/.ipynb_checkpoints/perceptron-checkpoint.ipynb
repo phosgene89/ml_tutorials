{
 "cells": [
  {
   "cell_type": "code",
   "execution_count": 8,
   "metadata": {},
   "outputs": [],
   "source": [
    "import torch\n",
    "import torch.nn as nn\n",
    "import numpy as np\n",
    "import matplotlib.pyplot as plt"
   ]
  },
  {
   "cell_type": "code",
   "execution_count": 287,
   "metadata": {},
   "outputs": [],
   "source": [
    "# Hyper-parameters\n",
    "INPUT_SIZE = 1\n",
    "OUTPUT_SIZE = 1\n",
    "NUM_EPOCHS = 1900\n",
    "LEARNING_RATE = 0.1\n",
    "BATCH_SIZE = 64\n",
    "n = 1150"
   ]
  },
  {
   "cell_type": "code",
   "execution_count": 288,
   "metadata": {},
   "outputs": [],
   "source": [
    "# Toy dataset\n",
    "x_train = np.linspace(0, n, n).astype(np.float32).reshape((-1,1))\n",
    "# Scale the inputs; failing to do this results in NaN values for the loss.\n",
    "x_train = (x_train - np.min(x_train))/(np.max(x_train) - np.min(x_train))\n",
    "y_train = x_train * x_train * x_train + np.random.normal(0,.02, n).astype(np.float32).reshape((-1,1))\n",
    "y_train = (y_train - np.min(y_train))/(np.max(y_train) - np.min(y_train))"
   ]
  },
  {
   "cell_type": "code",
   "execution_count": 289,
   "metadata": {},
   "outputs": [
    {
     "data": {
      "text/plain": [
       "[<matplotlib.lines.Line2D at 0x2aa911ad5c8>]"
      ]
     },
     "execution_count": 289,
     "metadata": {},
     "output_type": "execute_result"
    },
    {
     "data": {
      "image/png": "[encoded data removed]",
      "text/plain": [
       "<Figure size 432x288 with 1 Axes>"
      ]
     },
     "metadata": {
      "needs_background": "light"
     },
     "output_type": "display_data"
    }
   ],
   "source": [
    "plt.plot(x_train, y_train)"
   ]
  },
  {
   "cell_type": "code",
   "execution_count": 290,
   "metadata": {},
   "outputs": [],
   "source": [
    "class MLPModel(nn.Module):\n",
    "    def __init__(self, input_size, output_size, dropout=0.0, n_hid=128):\n",
    "        super().__init__()\n",
    "        self.model = nn.Sequential(\n",
    "            nn.Linear(input_size, n_hid),\n",
    "            nn.ReLU(),          \n",
    "            nn.Linear(n_hid, n_hid//2),\n",
    "            nn.ReLU(),\n",
    "            nn.Linear(n_hid//2, output_size),\n",
    "        )\n",
    "        for m in self.model:\n",
    "            if isinstance(m, nn.Linear):\n",
    "                nn.init.kaiming_normal_(m.weight)\n",
    "                nn.init.constant_(m.bias, 0)\n",
    "\n",
    "    def forward(self, input_tensor):\n",
    "        return self.model(input_tensor)"
   ]
  },
  {
   "cell_type": "code",
   "execution_count": 291,
   "metadata": {},
   "outputs": [],
   "source": [
    "# Linear regression model\n",
    "model =  MLPModel(INPUT_SIZE, OUTPUT_SIZE)\n",
    "\n",
    "# Loss and optimizer\n",
    "criterion = nn.MSELoss()\n",
    "optimizer = torch.optim.SGD(model.parameters(), lr=LEARNING_RATE)  "
   ]
  },
  {
   "cell_type": "code",
   "execution_count": 292,
   "metadata": {},
   "outputs": [
    {
     "name": "stdout",
     "output_type": "stream",
     "text": [
      "Epoch [10/1900], Loss: 0.0067\n",
      "Epoch [20/1900], Loss: 0.0057\n",
      "Epoch [30/1900], Loss: 0.0025\n",
      "Epoch [40/1900], Loss: 0.0018\n",
      "Epoch [50/1900], Loss: 0.0007\n",
      "Epoch [60/1900], Loss: 0.0011\n",
      "Epoch [70/1900], Loss: 0.0016\n",
      "Epoch [80/1900], Loss: 0.0006\n",
      "Epoch [90/1900], Loss: 0.0007\n",
      "Epoch [100/1900], Loss: 0.0006\n",
      "Epoch [110/1900], Loss: 0.0052\n",
      "Epoch [120/1900], Loss: 0.0006\n",
      "Epoch [130/1900], Loss: 0.0007\n",
      "Epoch [140/1900], Loss: 0.0007\n",
      "Epoch [150/1900], Loss: 0.0005\n",
      "Epoch [160/1900], Loss: 0.0012\n",
      "Epoch [170/1900], Loss: 0.0007\n",
      "Epoch [180/1900], Loss: 0.0007\n",
      "Epoch [190/1900], Loss: 0.0005\n",
      "Epoch [200/1900], Loss: 0.0010\n",
      "Epoch [210/1900], Loss: 0.0005\n",
      "Epoch [220/1900], Loss: 0.0005\n",
      "Epoch [230/1900], Loss: 0.0005\n",
      "Epoch [240/1900], Loss: 0.0006\n",
      "Epoch [250/1900], Loss: 0.0005\n",
      "Epoch [260/1900], Loss: 0.0023\n",
      "Epoch [270/1900], Loss: 0.0010\n",
      "Epoch [280/1900], Loss: 0.0009\n",
      "Epoch [290/1900], Loss: 0.0005\n",
      "Epoch [300/1900], Loss: 0.0004\n",
      "Epoch [310/1900], Loss: 0.0005\n",
      "Epoch [320/1900], Loss: 0.0005\n",
      "Epoch [330/1900], Loss: 0.0018\n",
      "Epoch [340/1900], Loss: 0.0006\n",
      "Epoch [350/1900], Loss: 0.0004\n",
      "Epoch [360/1900], Loss: 0.0005\n",
      "Epoch [370/1900], Loss: 0.0005\n",
      "Epoch [380/1900], Loss: 0.0004\n",
      "Epoch [390/1900], Loss: 0.0013\n",
      "Epoch [400/1900], Loss: 0.0006\n",
      "Epoch [410/1900], Loss: 0.0004\n",
      "Epoch [420/1900], Loss: 0.0011\n",
      "Epoch [430/1900], Loss: 0.0005\n",
      "Epoch [440/1900], Loss: 0.0005\n",
      "Epoch [450/1900], Loss: 0.0004\n",
      "Epoch [460/1900], Loss: 0.0012\n",
      "Epoch [470/1900], Loss: 0.0006\n",
      "Epoch [480/1900], Loss: 0.0008\n",
      "Epoch [490/1900], Loss: 0.0006\n",
      "Epoch [500/1900], Loss: 0.0005\n",
      "Epoch [510/1900], Loss: 0.0010\n",
      "Epoch [520/1900], Loss: 0.0004\n",
      "Epoch [530/1900], Loss: 0.0010\n",
      "Epoch [540/1900], Loss: 0.0004\n",
      "Epoch [550/1900], Loss: 0.0004\n",
      "Epoch [560/1900], Loss: 0.0005\n",
      "Epoch [570/1900], Loss: 0.0012\n",
      "Epoch [580/1900], Loss: 0.0006\n",
      "Epoch [590/1900], Loss: 0.0007\n",
      "Epoch [600/1900], Loss: 0.0004\n",
      "Epoch [610/1900], Loss: 0.0005\n",
      "Epoch [620/1900], Loss: 0.0003\n",
      "Epoch [630/1900], Loss: 0.0004\n",
      "Epoch [640/1900], Loss: 0.0004\n",
      "Epoch [650/1900], Loss: 0.0005\n",
      "Epoch [660/1900], Loss: 0.0003\n",
      "Epoch [670/1900], Loss: 0.0003\n",
      "Epoch [680/1900], Loss: 0.0006\n",
      "Epoch [690/1900], Loss: 0.0004\n",
      "Epoch [700/1900], Loss: 0.0004\n",
      "Epoch [710/1900], Loss: 0.0006\n",
      "Epoch [720/1900], Loss: 0.0006\n",
      "Epoch [730/1900], Loss: 0.0006\n",
      "Epoch [740/1900], Loss: 0.0006\n",
      "Epoch [750/1900], Loss: 0.0004\n",
      "Epoch [760/1900], Loss: 0.0007\n",
      "Epoch [770/1900], Loss: 0.0004\n",
      "Epoch [780/1900], Loss: 0.0006\n",
      "Epoch [790/1900], Loss: 0.0003\n",
      "Epoch [800/1900], Loss: 0.0004\n",
      "Epoch [810/1900], Loss: 0.0005\n",
      "Epoch [820/1900], Loss: 0.0006\n",
      "Epoch [830/1900], Loss: 0.0010\n",
      "Epoch [840/1900], Loss: 0.0009\n",
      "Epoch [850/1900], Loss: 0.0004\n",
      "Epoch [860/1900], Loss: 0.0003\n",
      "Epoch [870/1900], Loss: 0.0006\n",
      "Epoch [880/1900], Loss: 0.0005\n",
      "Epoch [890/1900], Loss: 0.0003\n",
      "Epoch [900/1900], Loss: 0.0005\n",
      "Epoch [910/1900], Loss: 0.0007\n",
      "Epoch [920/1900], Loss: 0.0008\n",
      "Epoch [930/1900], Loss: 0.0003\n",
      "Epoch [940/1900], Loss: 0.0004\n",
      "Epoch [950/1900], Loss: 0.0004\n",
      "Epoch [960/1900], Loss: 0.0005\n",
      "Epoch [970/1900], Loss: 0.0006\n",
      "Epoch [980/1900], Loss: 0.0004\n",
      "Epoch [990/1900], Loss: 0.0005\n",
      "Epoch [1000/1900], Loss: 0.0004\n",
      "Epoch [1010/1900], Loss: 0.0003\n",
      "Epoch [1020/1900], Loss: 0.0003\n",
      "Epoch [1030/1900], Loss: 0.0008\n",
      "Epoch [1040/1900], Loss: 0.0003\n",
      "Epoch [1050/1900], Loss: 0.0005\n",
      "Epoch [1060/1900], Loss: 0.0014\n",
      "Epoch [1070/1900], Loss: 0.0005\n",
      "Epoch [1080/1900], Loss: 0.0003\n",
      "Epoch [1090/1900], Loss: 0.0005\n",
      "Epoch [1100/1900], Loss: 0.0006\n",
      "Epoch [1110/1900], Loss: 0.0004\n",
      "Epoch [1120/1900], Loss: 0.0004\n",
      "Epoch [1130/1900], Loss: 0.0004\n",
      "Epoch [1140/1900], Loss: 0.0016\n",
      "Epoch [1150/1900], Loss: 0.0022\n",
      "Epoch [1160/1900], Loss: 0.0004\n",
      "Epoch [1170/1900], Loss: 0.0005\n",
      "Epoch [1180/1900], Loss: 0.0004\n",
      "Epoch [1190/1900], Loss: 0.0010\n",
      "Epoch [1200/1900], Loss: 0.0005\n",
      "Epoch [1210/1900], Loss: 0.0005\n",
      "Epoch [1220/1900], Loss: 0.0006\n",
      "Epoch [1230/1900], Loss: 0.0004\n",
      "Epoch [1240/1900], Loss: 0.0006\n",
      "Epoch [1250/1900], Loss: 0.0005\n",
      "Epoch [1260/1900], Loss: 0.0003\n",
      "Epoch [1270/1900], Loss: 0.0004\n",
      "Epoch [1280/1900], Loss: 0.0009\n",
      "Epoch [1290/1900], Loss: 0.0005\n",
      "Epoch [1300/1900], Loss: 0.0004\n",
      "Epoch [1310/1900], Loss: 0.0003\n",
      "Epoch [1320/1900], Loss: 0.0008\n",
      "Epoch [1330/1900], Loss: 0.0007\n",
      "Epoch [1340/1900], Loss: 0.0008\n",
      "Epoch [1350/1900], Loss: 0.0004\n",
      "Epoch [1360/1900], Loss: 0.0005\n",
      "Epoch [1370/1900], Loss: 0.0004\n",
      "Epoch [1380/1900], Loss: 0.0005\n",
      "Epoch [1390/1900], Loss: 0.0005\n",
      "Epoch [1400/1900], Loss: 0.0004\n",
      "Epoch [1410/1900], Loss: 0.0003\n",
      "Epoch [1420/1900], Loss: 0.0004\n",
      "Epoch [1430/1900], Loss: 0.0004\n",
      "Epoch [1440/1900], Loss: 0.0005\n",
      "Epoch [1450/1900], Loss: 0.0004\n",
      "Epoch [1460/1900], Loss: 0.0004\n",
      "Epoch [1470/1900], Loss: 0.0004\n",
      "Epoch [1480/1900], Loss: 0.0003\n",
      "Epoch [1490/1900], Loss: 0.0008\n",
      "Epoch [1500/1900], Loss: 0.0010\n",
      "Epoch [1510/1900], Loss: 0.0006\n",
      "Epoch [1520/1900], Loss: 0.0003\n",
      "Epoch [1530/1900], Loss: 0.0005\n",
      "Epoch [1540/1900], Loss: 0.0004\n",
      "Epoch [1550/1900], Loss: 0.0004\n",
      "Epoch [1560/1900], Loss: 0.0004\n",
      "Epoch [1570/1900], Loss: 0.0004\n",
      "Epoch [1580/1900], Loss: 0.0003\n",
      "Epoch [1590/1900], Loss: 0.0005\n",
      "Epoch [1600/1900], Loss: 0.0007\n",
      "Epoch [1610/1900], Loss: 0.0004\n",
      "Epoch [1620/1900], Loss: 0.0006\n",
      "Epoch [1630/1900], Loss: 0.0003\n",
      "Epoch [1640/1900], Loss: 0.0006\n",
      "Epoch [1650/1900], Loss: 0.0004\n",
      "Epoch [1660/1900], Loss: 0.0003\n",
      "Epoch [1670/1900], Loss: 0.0004\n",
      "Epoch [1680/1900], Loss: 0.0005\n",
      "Epoch [1690/1900], Loss: 0.0005\n",
      "Epoch [1700/1900], Loss: 0.0004\n",
      "Epoch [1710/1900], Loss: 0.0004\n",
      "Epoch [1720/1900], Loss: 0.0004\n",
      "Epoch [1730/1900], Loss: 0.0003\n",
      "Epoch [1740/1900], Loss: 0.0005\n",
      "Epoch [1750/1900], Loss: 0.0005\n",
      "Epoch [1760/1900], Loss: 0.0003\n",
      "Epoch [1770/1900], Loss: 0.0003\n",
      "Epoch [1780/1900], Loss: 0.0004\n",
      "Epoch [1790/1900], Loss: 0.0005\n",
      "Epoch [1800/1900], Loss: 0.0004\n",
      "Epoch [1810/1900], Loss: 0.0009\n",
      "Epoch [1820/1900], Loss: 0.0003\n",
      "Epoch [1830/1900], Loss: 0.0004\n",
      "Epoch [1840/1900], Loss: 0.0003\n",
      "Epoch [1850/1900], Loss: 0.0003\n",
      "Epoch [1860/1900], Loss: 0.0004\n",
      "Epoch [1870/1900], Loss: 0.0003\n",
      "Epoch [1880/1900], Loss: 0.0003\n",
      "Epoch [1890/1900], Loss: 0.0003\n",
      "Epoch [1900/1900], Loss: 0.0003\n"
     ]
    }
   ],
   "source": [
    "# Train the model\n",
    "for epoch in range(NUM_EPOCHS):\n",
    "    \n",
    "    optimizer = torch.optim.SGD(model.parameters(), lr=LEARNING_RATE)\n",
    "    permutation = torch.randperm(torch.from_numpy(x_train).size()[0])\n",
    "    \n",
    "    for i in range(0,torch.from_numpy(x_train).size()[0], BATCH_SIZE):\n",
    "    \n",
    "        indices = permutation[i:i+BATCH_SIZE]\n",
    "        inputs, targets = x_train[indices], y_train[indices]\n",
    "    \n",
    "        # Convert numpy arrays to torch tensors\n",
    "        inputs = torch.from_numpy(inputs)\n",
    "        targets = torch.from_numpy(targets)\n",
    "\n",
    "        # Forward pass\n",
    "        outputs = model.forward(inputs)\n",
    "        loss = criterion(outputs, targets)\n",
    "    \n",
    "        # Backward and optimize\n",
    "        optimizer.zero_grad()\n",
    "        loss.backward()\n",
    "        optimizer.step()\n",
    "    \n",
    "    if (epoch+1) % 10 == 0:\n",
    "        print ('Epoch [{}/{}], Loss: {:.4f}'.format(epoch+1, NUM_EPOCHS, loss.item()))"
   ]
  },
  {
   "cell_type": "code",
   "execution_count": 293,
   "metadata": {},
   "outputs": [
    {
     "data": {
      "image/png": "[encoded data removed]",
      "text/plain": [
       "<Figure size 432x288 with 1 Axes>"
      ]
     },
     "metadata": {
      "needs_background": "light"
     },
     "output_type": "display_data"
    }
   ],
   "source": [
    "# Plot the graph\n",
    "predicted = model(torch.from_numpy(x_train)).detach().numpy()\n",
    "plt.plot(x_train, y_train, 'ro', label='Original data', alpha = 0.3)\n",
    "plt.plot(x_train, predicted, label='Fitted line')\n",
    "plt.legend()\n",
    "plt.show()"
   ]
  },
  {
   "cell_type": "code",
   "execution_count": null,
   "metadata": {},
   "outputs": [],
   "source": []
  },
  {
   "cell_type": "code",
   "execution_count": null,
   "metadata": {},
   "outputs": [],
   "source": []
  }
 ],
 "metadata": {
  "kernelspec": {
   "display_name": "Python 3",
   "language": "python",
   "name": "python3"
  },
  "language_info": {
   "codemirror_mode": {
    "name": "ipython",
    "version": 3
   },
   "file_extension": ".py",
   "mimetype": "text/x-python",
   "name": "python",
   "nbconvert_exporter": "python",
   "pygments_lexer": "ipython3",
   "version": "3.7.4"
  }
 },
 "nbformat": 4,
 "nbformat_minor": 2
}
