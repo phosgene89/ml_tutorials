{
 "cells": [
  {
   "cell_type": "code",
   "execution_count": 199,
   "metadata": {},
   "outputs": [],
   "source": [
    "import numpy as np\n",
    "import matplotlib.pyplot as plt\n",
    "import pandas as pd\n",
    "import torch.nn as nn\n",
    "import torch\n",
    "from torch.utils import data\n",
    "import torch.nn.functional as F"
   ]
  },
  {
   "cell_type": "code",
   "execution_count": 272,
   "metadata": {},
   "outputs": [
    {
     "data": {
      "text/plain": [
       "[<matplotlib.lines.Line2D at 0x7f3379e27470>]"
      ]
     },
     "execution_count": 272,
     "metadata": {},
     "output_type": "execute_result"
    },
    {
     "data": {
      "image/png": "[encoded data removed]",
      "text/plain": [
       "<Figure size 432x288 with 1 Axes>"
      ]
     },
     "metadata": {
      "needs_background": "light"
     },
     "output_type": "display_data"
    }
   ],
   "source": [
    "TIME_LAGS = 17\n",
    "BATCH_SIZE = 1\n",
    "EPOCH = 5\n",
    "\n",
    "n_samples = 2000\n",
    "multiplier = 3\n",
    "time = np.linspace(0,100, n_samples)\n",
    "X = np.sin(time)# + np.random.normal(0,0.01, n_samples) #+ 0.5 * np.sin(time/10)\n",
    "X = (X - np.min(X))/(np.max(X) - np.min(X))\n",
    "\n",
    "X_train = X[0:1500]\n",
    "X_test = X[1500:]\n",
    "\n",
    "plt.plot(X[0:16])"
   ]
  },
  {
   "cell_type": "code",
   "execution_count": 273,
   "metadata": {},
   "outputs": [],
   "source": [
    "class TimeSeriesDataset(data.Dataset):\n",
    "    \n",
    "    def __init__(self, X, y, time_lags):\n",
    "        self.X = X\n",
    "        self.y = y\n",
    "        self.time_lags = time_lags\n",
    "\n",
    "    def __len__(self):\n",
    "        return len(self.X) - self.time_lags - 1\n",
    "\n",
    "    def __getitem__(self, idx):\n",
    "        shifted_idx = idx + self.time_lags\n",
    "        return np.reshape(self.X[idx:shifted_idx], (self.time_lags, -1)), self.y[shifted_idx]"
   ]
  },
  {
   "cell_type": "code",
   "execution_count": 274,
   "metadata": {},
   "outputs": [],
   "source": [
    "dataset_train = TimeSeriesDataset(X_train, X_train, TIME_LAGS)\n",
    "dataset_test = TimeSeriesDataset(X_test, X_test, TIME_LAGS)\n",
    "\n",
    "# We need to set drop_last=True to drop the last batch of a complete iteration of the dataset.\n",
    "# This is necesarry when the total number of samples in the dataset is not able to be evenly divided\n",
    "# by the batch size, resulting in a smaller batch.\n",
    "train_dataloader = data.DataLoader(dataset_train, batch_size=BATCH_SIZE, \n",
    "                                   shuffle=True, num_workers=0, drop_last=True)\n",
    "test_dataloader = data.DataLoader(dataset_test, batch_size=BATCH_SIZE, \n",
    "                                  shuffle=True, num_workers=0, drop_last=True)"
   ]
  },
  {
   "cell_type": "code",
   "execution_count": 281,
   "metadata": {},
   "outputs": [],
   "source": [
    "class CNN1D(nn.Module):\n",
    "    \"\"\"Very simple implementation of 1D-CNN time-series classifier.\"\"\"\n",
    "    \n",
    "    def __init__(self):\n",
    "        super().__init__()\n",
    "        self.conv1 = nn.Sequential(nn.Conv1d(in_channels=1, out_channels=32, \n",
    "                                             kernel_size=3), nn.ReLU()) # Out shape is (batch_size, out_channels, 8)\n",
    "        self.maxpool1 = nn.MaxPool1d(2)\n",
    "        conv_out_dim = 32 * int(np.floor((TIME_LAGS - 3 + 1)/2))\n",
    "        self.fc = nn.Linear(conv_out_dim, 64)\n",
    "        self.fc2 = nn.Linear(64,32)\n",
    "        self.fc3 = nn.Linear(32,1)\n",
    "    \n",
    "    def forward(self, x):\n",
    "        x = self.conv1(x)\n",
    "        x = self.maxpool1(x)\n",
    "        x = x.view(x.size(0), -1)   # flatten the output of conv2 to (batch_size, 32 * 7 * 7)\n",
    "        x = F.relu(self.fc(x))\n",
    "        x = F.relu(self.fc2(x))\n",
    "        out = F.relu(self.fc3(x))\n",
    "        return out"
   ]
  },
  {
   "cell_type": "code",
   "execution_count": 282,
   "metadata": {},
   "outputs": [
    {
     "name": "stdout",
     "output_type": "stream",
     "text": [
      "CNN1D(\n",
      "  (conv1): Sequential(\n",
      "    (0): Conv1d(1, 32, kernel_size=(3,), stride=(1,))\n",
      "    (1): ReLU()\n",
      "  )\n",
      "  (maxpool1): MaxPool1d(kernel_size=2, stride=2, padding=0, dilation=1, ceil_mode=False)\n",
      "  (fc): Linear(in_features=224, out_features=64, bias=True)\n",
      "  (fc2): Linear(in_features=64, out_features=32, bias=True)\n",
      "  (fc3): Linear(in_features=32, out_features=1, bias=True)\n",
      ")\n"
     ]
    }
   ],
   "source": [
    "cnn = CNN1D().double()\n",
    "print(cnn)  # net architecture\n",
    "\n",
    "optimizer = torch.optim.Adam(cnn.parameters(), lr=0.01)   # optimize all cnn parameters\n",
    "loss_func = nn.MSELoss()                       # the target label is not one-hotted"
   ]
  },
  {
   "cell_type": "code",
   "execution_count": 285,
   "metadata": {},
   "outputs": [
    {
     "name": "stdout",
     "output_type": "stream",
     "text": [
      "Epoch:  0 | train RMSE: 0.0584 | test RMSE: 0.01\n",
      "Epoch:  1 | train RMSE: 0.0322 | test RMSE: 0.03\n",
      "Epoch:  2 | train RMSE: 0.0403 | test RMSE: 0.02\n",
      "Epoch:  3 | train RMSE: 0.0596 | test RMSE: 0.02\n",
      "Epoch:  4 | train RMSE: 0.0250 | test RMSE: 0.03\n"
     ]
    }
   ],
   "source": [
    "# training and testing\n",
    "for epoch in range(EPOCH):\n",
    "    train_mse = []\n",
    "    for step, (b_x, b_y) in enumerate(train_dataloader):   # gives batch data, normalize x when iterate train_loader\n",
    "        \n",
    "        cnn.train()\n",
    "        output = cnn(b_x.reshape(BATCH_SIZE, 1, -1).double())\n",
    "        output = output[0]\n",
    "        loss = loss_func(output, b_y)\n",
    "        optimizer.zero_grad()\n",
    "        loss.backward()\n",
    "        optimizer.step()\n",
    "        train_mse.append(loss.item())\n",
    "\n",
    "    val_loss = []\n",
    "    cnn.eval()\n",
    "    for step, (b_x, b_y) in enumerate(test_dataloader):\n",
    "        test_output = cnn(b_x.reshape(BATCH_SIZE, 1, -1).double())[0]\n",
    "        pred_y = test_output.data.numpy()\n",
    "        accuracy = np.mean(np.square((pred_y - b_y.data.numpy())))\n",
    "        val_loss.append(accuracy)\n",
    "    print('Epoch: ', epoch, '| train RMSE: %.4f' % np.sqrt(np.mean(train_mse)), '| test RMSE: %.2f' % np.sqrt(np.mean(val_loss)))"
   ]
  },
  {
   "cell_type": "code",
   "execution_count": null,
   "metadata": {},
   "outputs": [],
   "source": []
  },
  {
   "cell_type": "code",
   "execution_count": null,
   "metadata": {},
   "outputs": [],
   "source": []
  },
  {
   "cell_type": "code",
   "execution_count": null,
   "metadata": {},
   "outputs": [],
   "source": []
  },
  {
   "cell_type": "code",
   "execution_count": null,
   "metadata": {},
   "outputs": [],
   "source": []
  }
 ],
 "metadata": {
  "kernelspec": {
   "display_name": "Python 3",
   "language": "python",
   "name": "python3"
  },
  "language_info": {
   "codemirror_mode": {
    "name": "ipython",
    "version": 3
   },
   "file_extension": ".py",
   "mimetype": "text/x-python",
   "name": "python",
   "nbconvert_exporter": "python",
   "pygments_lexer": "ipython3",
   "version": "3.6.8"
  }
 },
 "nbformat": 4,
 "nbformat_minor": 4
}
