{
 "cells": [
  {
   "cell_type": "code",
   "execution_count": 90,
   "metadata": {},
   "outputs": [],
   "source": [
    "import numpy as np\n",
    "import matplotlib.pyplot as plt\n",
    "import copy\n",
    "\n",
    "import torch.nn as nn\n",
    "import torch.optim as optim\n",
    "import torch\n",
    "from torch.utils.data import Dataset, DataLoader"
   ]
  },
  {
   "cell_type": "code",
   "execution_count": 85,
   "metadata": {},
   "outputs": [
    {
     "data": {
      "text/plain": [
       "[<matplotlib.lines.Line2D at 0x7fa19d066390>]"
      ]
     },
     "execution_count": 85,
     "metadata": {},
     "output_type": "execute_result"
    },
    {
     "data": {
      "image/png": "[encoded data removed]",
      "text/plain": [
       "<Figure size 432x288 with 1 Axes>"
      ]
     },
     "metadata": {
      "needs_background": "light"
     },
     "output_type": "display_data"
    }
   ],
   "source": [
    "# Generate data\n",
    "t = np.linspace(0, 50, 500)\n",
    "signal = np.sin(t)**3 + np.random.normal(0, 0.3, 500)\n",
    "\n",
    "plt.plot(signal)"
   ]
  },
  {
   "cell_type": "code",
   "execution_count": 105,
   "metadata": {},
   "outputs": [],
   "source": [
    "class GenericDataset(Dataset):\n",
    "\n",
    "    def __init__(self, X, lags, forecast_horizon):\n",
    "        self.X = copy.deepcopy(X)\n",
    "        self.lags = lags\n",
    "        self.forecast_horizon = forecast_horizon\n",
    "\n",
    "    def __len__(self):\n",
    "        \n",
    "        length = len(self.X)-50\n",
    "        return length\n",
    "\n",
    "    def __getitem__(self, idx):\n",
    "        if torch.is_tensor(idx):\n",
    "            idx = idx.tolist()\n",
    "\n",
    "        x = np.array(self.X[idx:idx+self.lags]).reshape(self.lags,1)\n",
    "        y = np.array(self.X[idx+self.lags:idx+self.lags+self.forecast_horizon]).reshape(-1, self.forecast_horizon)\n",
    "\n",
    "        return x, y"
   ]
  },
  {
   "cell_type": "code",
   "execution_count": 129,
   "metadata": {},
   "outputs": [],
   "source": [
    "BATCH_SIZE = 1\n",
    "\n",
    "torch_dataset = GenericDataset(signal, 5, 1)\n",
    "\n",
    "train_loader = DataLoader(dataset=torch_dataset, \n",
    "                            batch_size=BATCH_SIZE, \n",
    "                            shuffle=True, num_workers=0)"
   ]
  },
  {
   "cell_type": "code",
   "execution_count": 171,
   "metadata": {},
   "outputs": [],
   "source": [
    "class NaiveCustomLSTM(nn.Module):\n",
    "    def __init__(self, input_size, hidden_size):\n",
    "        super().__init__()\n",
    "        self.input_size = input_size\n",
    "        self.hidden_size = hidden_size\n",
    "        \n",
    "        # i_t\n",
    "        self.U_i = nn.Parameter(torch.Tensor(input_size, hidden_size))\n",
    "        self.V_i = nn.Parameter(torch.Tensor(hidden_size, hidden_size))\n",
    "        self.b_i = nn.Parameter(torch.Tensor(hidden_size))\n",
    "        \n",
    "        # f_t\n",
    "        self.U_f = nn.Parameter(torch.Tensor(input_size, hidden_size))\n",
    "        self.V_f = nn.Parameter(torch.Tensor(hidden_size, hidden_size))\n",
    "        self.b_f = nn.Parameter(torch.Tensor(hidden_size))\n",
    "        \n",
    "        # c_t\n",
    "        self.U_c = nn.Parameter(torch.Tensor(input_size, hidden_size))\n",
    "        self.V_c = nn.Parameter(torch.Tensor(hidden_size, hidden_size))\n",
    "        self.b_c = nn.Parameter(torch.Tensor(hidden_size))\n",
    "        \n",
    "        # o_t\n",
    "        self.U_o = nn.Parameter(torch.Tensor(input_size, hidden_size))\n",
    "        self.V_o = nn.Parameter(torch.Tensor(hidden_size, hidden_size))\n",
    "        self.b_o = nn.Parameter(torch.Tensor(hidden_size))\n",
    "        \n",
    "        self.init_weights()\n",
    "        \n",
    "    def init_weights(self):\n",
    "        \n",
    "        std_dv = 1.0/np.sqrt(self.hidden_size)\n",
    "        \n",
    "        for weight in self.parameters():\n",
    "            weight.data.uniform_(-std_dv, std_dv).double()\n",
    "            \n",
    "        return\n",
    "    \n",
    "    def forward(self, x, init_states=None):\n",
    "        \n",
    "        \"\"\"Assumes x is shaped (batch_size, sequence_length, num_features).\n",
    "        \"\"\"\n",
    "        \n",
    "        batch_size, sequence_length, _ = x.size()\n",
    "        hidden_seq = []\n",
    "        \n",
    "        if init_states is None:\n",
    "            h_t, c_t = (torch.zeros(batch_size, self.hidden_size).to(x.device).double(),\n",
    "                       torch.zeros(batch_size, self.hidden_size).to(x.device).double())\n",
    "        else:\n",
    "            h_t, c_t = init_states\n",
    "            \n",
    "        for t in range(sequence_length):\n",
    "            x_t = x[:,t,:]\n",
    "            \n",
    "            i_t = torch.sigmoid(x_t @ self.U_i + h_t @ self.V_i + self.b_i)\n",
    "            f_t = torch.sigmoid(x_t @ self.U_f + h_t @ self.V_f + self.b_f)\n",
    "            g_t = torch.tanh(x_t @ self.U_c + h_t @ self.V_c + self.b_c)\n",
    "            o_t = torch.sigmoid(x_t @ self.U_o + h_t @ self.V_o + self.b_o)\n",
    "            c_t = f_t * c_t + i_t * g_t\n",
    "            h_t = o_t * torch.tanh(c_t)\n",
    "            \n",
    "            hidden_seq.append(h_t.unsqueeze(0))\n",
    "            \n",
    "        # reshape hidden sequence and return array\n",
    "        hidden_seq = torch.cat(hidden_seq, dim=0)\n",
    "        hidden_seq = hidden_seq.transpose(0,1).contiguous()\n",
    "        return hidden_seq, h_t, c_t"
   ]
  },
  {
   "cell_type": "code",
   "execution_count": 172,
   "metadata": {},
   "outputs": [],
   "source": [
    "N_HIDDEN = 64\n",
    "\n",
    "net = NaiveCustomLSTM(1, N_HIDDEN)\n",
    "net = net.double()\n",
    "\n",
    "optimizer = torch.optim.Adam(net.parameters(),lr=0.0001)\n",
    "criterion = nn.MSELoss()"
   ]
  },
  {
   "cell_type": "code",
   "execution_count": 173,
   "metadata": {},
   "outputs": [
    {
     "name": "stdout",
     "output_type": "stream",
     "text": [
      "Epoch [1/25], Loss: 0.4009\n",
      "Epoch [2/25], Loss: 0.3498\n",
      "Epoch [3/25], Loss: 0.2603\n",
      "Epoch [4/25], Loss: 0.2031\n",
      "Epoch [5/25], Loss: 0.2964\n",
      "Epoch [6/25], Loss: 0.1263\n",
      "Epoch [7/25], Loss: 0.1275\n",
      "Epoch [8/25], Loss: 0.0114\n",
      "Epoch [9/25], Loss: 0.0831\n",
      "Epoch [10/25], Loss: 0.1635\n",
      "Epoch [11/25], Loss: 0.0266\n",
      "Epoch [12/25], Loss: 0.3746\n",
      "Epoch [13/25], Loss: 0.1486\n",
      "Epoch [14/25], Loss: 0.0055\n",
      "Epoch [15/25], Loss: 0.2853\n",
      "Epoch [16/25], Loss: 0.0708\n",
      "Epoch [17/25], Loss: 0.0217\n",
      "Epoch [18/25], Loss: 0.1365\n",
      "Epoch [19/25], Loss: 0.1069\n",
      "Epoch [20/25], Loss: 1.1347\n",
      "Epoch [21/25], Loss: 0.0490\n",
      "Epoch [22/25], Loss: 0.0175\n",
      "Epoch [23/25], Loss: 0.0106\n",
      "Epoch [24/25], Loss: 0.0248\n",
      "Epoch [25/25], Loss: 0.0480\n"
     ]
    }
   ],
   "source": [
    "NUM_EPOCHS = 25\n",
    "\n",
    "for epoch in range(NUM_EPOCHS):\n",
    "    for inputs, targets in train_loader:\n",
    "\n",
    "        # Forward pass\n",
    "        inputs = inputs.double()\n",
    "        targets = targets.double()\n",
    "        _, outputs, _ = net.forward(inputs)\n",
    "        loss = criterion(outputs, targets)\n",
    "    \n",
    "        # Backward and optimize\n",
    "        optimizer.zero_grad()\n",
    "        loss.backward()\n",
    "        optimizer.step()\n",
    "    \n",
    "    if (epoch+1) % 1 == 0:\n",
    "        print ('Epoch [{}/{}], Loss: {:.4f}'.format(epoch+1, NUM_EPOCHS, loss.item()))"
   ]
  },
  {
   "cell_type": "code",
   "execution_count": null,
   "metadata": {},
   "outputs": [],
   "source": []
  },
  {
   "cell_type": "code",
   "execution_count": null,
   "metadata": {},
   "outputs": [],
   "source": []
  },
  {
   "cell_type": "code",
   "execution_count": null,
   "metadata": {},
   "outputs": [],
   "source": []
  },
  {
   "cell_type": "code",
   "execution_count": null,
   "metadata": {},
   "outputs": [],
   "source": []
  }
 ],
 "metadata": {
  "kernelspec": {
   "display_name": "Python 3",
   "language": "python",
   "name": "python3"
  },
  "language_info": {
   "codemirror_mode": {
    "name": "ipython",
    "version": 3
   },
   "file_extension": ".py",
   "mimetype": "text/x-python",
   "name": "python",
   "nbconvert_exporter": "python",
   "pygments_lexer": "ipython3",
   "version": "3.6.8"
  }
 },
 "nbformat": 4,
 "nbformat_minor": 4
}
